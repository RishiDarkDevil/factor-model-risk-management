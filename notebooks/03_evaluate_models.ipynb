{
 "cells": [
  {
   "cell_type": "markdown",
   "id": "ca164521",
   "metadata": {
    "vscode": {
     "languageId": "plaintext"
    }
   },
   "source": [
    "#### Imports"
   ]
  },
  {
   "cell_type": "code",
   "execution_count": 3,
   "id": "2b03a1c6",
   "metadata": {},
   "outputs": [],
   "source": [
    "import pickle\n",
    "import pandas as pd\n",
    "import matplotlib.pyplot as plt\n",
    "from pathlib import Path"
   ]
  },
  {
   "cell_type": "markdown",
   "id": "c9dca36d",
   "metadata": {},
   "source": [
    "### Load Data & Model"
   ]
  },
  {
   "cell_type": "code",
   "execution_count": 2,
   "id": "3306c71e",
   "metadata": {},
   "outputs": [],
   "source": [
    "outputs_path = Path(\"../outputs\")\n",
    "assets_path = Path(\"../data/assets\")\n",
    "factors_path = Path(\"../data/factors\")"
   ]
  },
  {
   "cell_type": "code",
   "execution_count": 6,
   "id": "388dad3c",
   "metadata": {},
   "outputs": [],
   "source": [
    "with open(outputs_path / \"model_results.pkl\", \"rb\") as f:\n",
    "    results = pickle.load(f)"
   ]
  },
  {
   "cell_type": "markdown",
   "id": "2904d118",
   "metadata": {},
   "source": [
    "### Collect Metrics"
   ]
  },
  {
   "cell_type": "code",
   "execution_count": 7,
   "id": "ce533eac",
   "metadata": {},
   "outputs": [
    {
     "data": {
      "text/html": [
       "<div>\n",
       "<style scoped>\n",
       "    .dataframe tbody tr th:only-of-type {\n",
       "        vertical-align: middle;\n",
       "    }\n",
       "\n",
       "    .dataframe tbody tr th {\n",
       "        vertical-align: top;\n",
       "    }\n",
       "\n",
       "    .dataframe thead th {\n",
       "        text-align: right;\n",
       "    }\n",
       "</style>\n",
       "<table border=\"1\" class=\"dataframe\">\n",
       "  <thead>\n",
       "    <tr style=\"text-align: right;\">\n",
       "      <th></th>\n",
       "      <th>CAPM_R2_adj</th>\n",
       "      <th>CAPM_AIC</th>\n",
       "      <th>CAPM_BIC</th>\n",
       "      <th>FF3_R2_adj</th>\n",
       "      <th>FF3_AIC</th>\n",
       "      <th>FF3_BIC</th>\n",
       "    </tr>\n",
       "    <tr>\n",
       "      <th>Ticker</th>\n",
       "      <th></th>\n",
       "      <th></th>\n",
       "      <th></th>\n",
       "      <th></th>\n",
       "      <th></th>\n",
       "      <th></th>\n",
       "    </tr>\n",
       "  </thead>\n",
       "  <tbody>\n",
       "    <tr>\n",
       "      <th>AAPL</th>\n",
       "      <td>0.595785</td>\n",
       "      <td>-10496.799268</td>\n",
       "      <td>-10485.854267</td>\n",
       "      <td>0.649500</td>\n",
       "      <td>-10745.610448</td>\n",
       "      <td>-10723.720445</td>\n",
       "    </tr>\n",
       "    <tr>\n",
       "      <th>AMZN</th>\n",
       "      <td>0.450177</td>\n",
       "      <td>-9536.553961</td>\n",
       "      <td>-9525.608959</td>\n",
       "      <td>0.570504</td>\n",
       "      <td>-9969.002171</td>\n",
       "      <td>-9947.112168</td>\n",
       "    </tr>\n",
       "    <tr>\n",
       "      <th>JNJ</th>\n",
       "      <td>0.239117</td>\n",
       "      <td>-10951.494379</td>\n",
       "      <td>-10940.549377</td>\n",
       "      <td>0.301468</td>\n",
       "      <td>-11099.890373</td>\n",
       "      <td>-11078.000370</td>\n",
       "    </tr>\n",
       "    <tr>\n",
       "      <th>JPM</th>\n",
       "      <td>0.500623</td>\n",
       "      <td>-10237.057780</td>\n",
       "      <td>-10226.112779</td>\n",
       "      <td>0.742394</td>\n",
       "      <td>-11399.399285</td>\n",
       "      <td>-11377.509282</td>\n",
       "    </tr>\n",
       "    <tr>\n",
       "      <th>KO</th>\n",
       "      <td>0.318980</td>\n",
       "      <td>-11149.169796</td>\n",
       "      <td>-11138.224795</td>\n",
       "      <td>0.411092</td>\n",
       "      <td>-11402.794523</td>\n",
       "      <td>-11380.904520</td>\n",
       "    </tr>\n",
       "    <tr>\n",
       "      <th>META</th>\n",
       "      <td>0.379079</td>\n",
       "      <td>-8628.705776</td>\n",
       "      <td>-8617.760774</td>\n",
       "      <td>0.441873</td>\n",
       "      <td>-8814.247957</td>\n",
       "      <td>-8792.357954</td>\n",
       "    </tr>\n",
       "    <tr>\n",
       "      <th>MSFT</th>\n",
       "      <td>0.667859</td>\n",
       "      <td>-11039.019031</td>\n",
       "      <td>-11028.074029</td>\n",
       "      <td>0.767102</td>\n",
       "      <td>-11661.394904</td>\n",
       "      <td>-11639.504901</td>\n",
       "    </tr>\n",
       "    <tr>\n",
       "      <th>PFE</th>\n",
       "      <td>0.182123</td>\n",
       "      <td>-9902.506357</td>\n",
       "      <td>-9891.561356</td>\n",
       "      <td>0.210099</td>\n",
       "      <td>-9961.730717</td>\n",
       "      <td>-9939.840714</td>\n",
       "    </tr>\n",
       "    <tr>\n",
       "      <th>TSLA</th>\n",
       "      <td>0.253374</td>\n",
       "      <td>-6831.976699</td>\n",
       "      <td>-6821.031697</td>\n",
       "      <td>0.298089</td>\n",
       "      <td>-6938.611774</td>\n",
       "      <td>-6916.721771</td>\n",
       "    </tr>\n",
       "    <tr>\n",
       "      <th>XOM</th>\n",
       "      <td>0.282051</td>\n",
       "      <td>-9435.706617</td>\n",
       "      <td>-9424.761615</td>\n",
       "      <td>0.520630</td>\n",
       "      <td>-10144.216816</td>\n",
       "      <td>-10122.326813</td>\n",
       "    </tr>\n",
       "  </tbody>\n",
       "</table>\n",
       "</div>"
      ],
      "text/plain": [
       "        CAPM_R2_adj      CAPM_AIC      CAPM_BIC  FF3_R2_adj       FF3_AIC  \\\n",
       "Ticker                                                                      \n",
       "AAPL       0.595785 -10496.799268 -10485.854267    0.649500 -10745.610448   \n",
       "AMZN       0.450177  -9536.553961  -9525.608959    0.570504  -9969.002171   \n",
       "JNJ        0.239117 -10951.494379 -10940.549377    0.301468 -11099.890373   \n",
       "JPM        0.500623 -10237.057780 -10226.112779    0.742394 -11399.399285   \n",
       "KO         0.318980 -11149.169796 -11138.224795    0.411092 -11402.794523   \n",
       "META       0.379079  -8628.705776  -8617.760774    0.441873  -8814.247957   \n",
       "MSFT       0.667859 -11039.019031 -11028.074029    0.767102 -11661.394904   \n",
       "PFE        0.182123  -9902.506357  -9891.561356    0.210099  -9961.730717   \n",
       "TSLA       0.253374  -6831.976699  -6821.031697    0.298089  -6938.611774   \n",
       "XOM        0.282051  -9435.706617  -9424.761615    0.520630 -10144.216816   \n",
       "\n",
       "             FF3_BIC  \n",
       "Ticker                \n",
       "AAPL   -10723.720445  \n",
       "AMZN    -9947.112168  \n",
       "JNJ    -11078.000370  \n",
       "JPM    -11377.509282  \n",
       "KO     -11380.904520  \n",
       "META    -8792.357954  \n",
       "MSFT   -11639.504901  \n",
       "PFE     -9939.840714  \n",
       "TSLA    -6916.721771  \n",
       "XOM    -10122.326813  "
      ]
     },
     "execution_count": 7,
     "metadata": {},
     "output_type": "execute_result"
    }
   ],
   "source": [
    "evaluation_data = []\n",
    "\n",
    "for ticker, models in results.items():\n",
    "    capm_model = models[\"CAPM\"]\n",
    "    ff3_model = models[\"FF3\"]\n",
    "    \n",
    "    evaluation_data.append({\n",
    "        \"Ticker\": ticker,\n",
    "        \"CAPM_R2_adj\": capm_model.rsquared_adj,\n",
    "        \"CAPM_AIC\": capm_model.aic,\n",
    "        \"CAPM_BIC\": capm_model.bic,\n",
    "        \"FF3_R2_adj\": ff3_model.rsquared_adj,\n",
    "        \"FF3_AIC\": ff3_model.aic,\n",
    "        \"FF3_BIC\": ff3_model.bic,\n",
    "    })\n",
    "\n",
    "eval_df = pd.DataFrame(evaluation_data).set_index(\"Ticker\")\n",
    "eval_df"
   ]
  },
  {
   "cell_type": "markdown",
   "id": "da995d9d",
   "metadata": {},
   "source": [
    "#### Compare Metrics"
   ]
  },
  {
   "cell_type": "code",
   "execution_count": 9,
   "id": "6c8ca3dc",
   "metadata": {},
   "outputs": [
    {
     "data": {
      "image/png": "[encoded data removed]",
      "text/plain": [
       "<Figure size 1200x600 with 1 Axes>"
      ]
     },
     "metadata": {},
     "output_type": "display_data"
    }
   ],
   "source": [
    "diff_df = eval_df.assign(\n",
    "    R2_Improvement = eval_df[\"FF3_R2_adj\"] - eval_df[\"CAPM_R2_adj\"],\n",
    "    AIC_Reduction = eval_df[\"CAPM_AIC\"] - eval_df[\"FF3_AIC\"],\n",
    "    BIC_Reduction = eval_df[\"CAPM_BIC\"] - eval_df[\"FF3_BIC\"]\n",
    ")\n",
    "diff_df.sort_values(\"R2_Improvement\", ascending=False)\n",
    "diff_df[[\"R2_Improvement\", \"AIC_Reduction\", \"BIC_Reduction\"]].plot(kind=\"bar\", figsize=(12,6))\n",
    "plt.title(\"Model Improvement: Fama-French 3-Factor vs CAPM\")\n",
    "plt.ylabel(\"Improvement\")\n",
    "plt.xticks(rotation=45)\n",
    "plt.grid(True)\n",
    "plt.axhline(0, color='black')\n",
    "plt.show()\n"
   ]
  },
  {
   "cell_type": "code",
   "execution_count": null,
   "id": "ef823eed",
   "metadata": {},
   "outputs": [],
   "source": []
  }
 ],
 "metadata": {
  "kernelspec": {
   "display_name": "Python 3",
   "language": "python",
   "name": "python3"
  },
  "language_info": {
   "codemirror_mode": {
    "name": "ipython",
    "version": 3
   },
   "file_extension": ".py",
   "mimetype": "text/x-python",
   "name": "python",
   "nbconvert_exporter": "python",
   "pygments_lexer": "ipython3",
   "version": "3.8.20"
  }
 },
 "nbformat": 4,
 "nbformat_minor": 5
}
