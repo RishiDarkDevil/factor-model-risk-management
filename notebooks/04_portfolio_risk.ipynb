{
 "cells": [
  {
   "cell_type": "markdown",
   "id": "30b96da8",
   "metadata": {},
   "source": [
    "#### Imports"
   ]
  },
  {
   "cell_type": "code",
   "execution_count": 6,
   "id": "93572e26",
   "metadata": {},
   "outputs": [],
   "source": [
    "import pickle\n",
    "import pandas as pd\n",
    "import numpy as np\n",
    "from pathlib import Path"
   ]
  },
  {
   "cell_type": "markdown",
   "id": "944da28a",
   "metadata": {},
   "source": [
    "#### Load Data"
   ]
  },
  {
   "cell_type": "code",
   "execution_count": 3,
   "id": "fbae6382",
   "metadata": {},
   "outputs": [],
   "source": [
    "assets_path = Path(\"../data/assets\")\n",
    "factors_path = Path(\"../data/factors\")\n",
    "\n",
    "returns = pd.read_csv(assets_path / \"asset_returns.csv\", index_col=0, parse_dates=True)\n",
    "factors = pd.read_csv(factors_path / \"ff3_daily_clean.csv\", index_col=0, parse_dates=True)"
   ]
  },
  {
   "cell_type": "markdown",
   "id": "ff4a0040",
   "metadata": {},
   "source": [
    "#### Align Dates"
   ]
  },
  {
   "cell_type": "code",
   "execution_count": 4,
   "id": "3bb9588e",
   "metadata": {},
   "outputs": [],
   "source": [
    "returns = returns.loc[factors.index.intersection(returns.index)]\n",
    "factors = factors.loc[returns.index]"
   ]
  },
  {
   "cell_type": "markdown",
   "id": "91c99ea6",
   "metadata": {},
   "source": [
    "#### Subtract Risk-Free Rate of Return"
   ]
  },
  {
   "cell_type": "code",
   "execution_count": 5,
   "id": "ed73ab35",
   "metadata": {},
   "outputs": [],
   "source": [
    "excess_returns = returns.sub(factors[\"RF\"], axis=0)"
   ]
  },
  {
   "cell_type": "markdown",
   "id": "438028dc",
   "metadata": {},
   "source": [
    "#### Load Model Betas"
   ]
  },
  {
   "cell_type": "code",
   "execution_count": 7,
   "id": "bcdedd39",
   "metadata": {},
   "outputs": [],
   "source": [
    "outputs_path = Path(\"../outputs\")\n",
    "import pickle\n",
    "\n",
    "with open(outputs_path / \"model_results.pkl\", \"rb\") as f:\n",
    "    results = pickle.load(f)"
   ]
  },
  {
   "cell_type": "markdown",
   "id": "bb01dbad",
   "metadata": {},
   "source": [
    "#### Create Portfolio of Equal Weights"
   ]
  },
  {
   "cell_type": "code",
   "execution_count": 8,
   "id": "d79077df",
   "metadata": {},
   "outputs": [],
   "source": [
    "tickers = returns.columns\n",
    "n_assets = len(tickers)\n",
    "weights = np.ones(n_assets) / n_assets"
   ]
  },
  {
   "cell_type": "markdown",
   "id": "076aae86",
   "metadata": {},
   "source": [
    "#### Build Beta Matrix"
   ]
  },
  {
   "cell_type": "code",
   "execution_count": 30,
   "id": "dac7ce90",
   "metadata": {},
   "outputs": [
    {
     "data": {
      "text/html": [
       "<div>\n",
       "<style scoped>\n",
       "    .dataframe tbody tr th:only-of-type {\n",
       "        vertical-align: middle;\n",
       "    }\n",
       "\n",
       "    .dataframe tbody tr th {\n",
       "        vertical-align: top;\n",
       "    }\n",
       "\n",
       "    .dataframe thead th {\n",
       "        text-align: right;\n",
       "    }\n",
       "</style>\n",
       "<table border=\"1\" class=\"dataframe\">\n",
       "  <thead>\n",
       "    <tr style=\"text-align: right;\">\n",
       "      <th></th>\n",
       "      <th>AAPL</th>\n",
       "      <th>AMZN</th>\n",
       "      <th>JNJ</th>\n",
       "      <th>JPM</th>\n",
       "      <th>KO</th>\n",
       "      <th>META</th>\n",
       "      <th>MSFT</th>\n",
       "      <th>PFE</th>\n",
       "      <th>TSLA</th>\n",
       "      <th>XOM</th>\n",
       "    </tr>\n",
       "  </thead>\n",
       "  <tbody>\n",
       "    <tr>\n",
       "      <th>const</th>\n",
       "      <td>0.000569</td>\n",
       "      <td>0.000338</td>\n",
       "      <td>-0.000117</td>\n",
       "      <td>0.000146</td>\n",
       "      <td>0.000023</td>\n",
       "      <td>0.000318</td>\n",
       "      <td>0.000461</td>\n",
       "      <td>-0.000213</td>\n",
       "      <td>0.001632</td>\n",
       "      <td>0.000017</td>\n",
       "    </tr>\n",
       "    <tr>\n",
       "      <th>Mkt-RF</th>\n",
       "      <td>1.166061</td>\n",
       "      <td>1.142014</td>\n",
       "      <td>0.473484</td>\n",
       "      <td>1.035446</td>\n",
       "      <td>0.546297</td>\n",
       "      <td>1.276622</td>\n",
       "      <td>1.167358</td>\n",
       "      <td>0.537224</td>\n",
       "      <td>1.586761</td>\n",
       "      <td>0.814368</td>\n",
       "    </tr>\n",
       "  </tbody>\n",
       "</table>\n",
       "</div>"
      ],
      "text/plain": [
       "            AAPL      AMZN       JNJ       JPM        KO      META      MSFT  \\\n",
       "const   0.000569  0.000338 -0.000117  0.000146  0.000023  0.000318  0.000461   \n",
       "Mkt-RF  1.166061  1.142014  0.473484  1.035446  0.546297  1.276622  1.167358   \n",
       "\n",
       "             PFE      TSLA       XOM  \n",
       "const  -0.000213  0.001632  0.000017  \n",
       "Mkt-RF  0.537224  1.586761  0.814368  "
      ]
     },
     "execution_count": 30,
     "metadata": {},
     "output_type": "execute_result"
    }
   ],
   "source": [
    "beta_capm.T"
   ]
  },
  {
   "cell_type": "code",
   "execution_count": 29,
   "id": "25d1afb3",
   "metadata": {},
   "outputs": [
    {
     "data": {
      "text/html": [
       "<div>\n",
       "<style scoped>\n",
       "    .dataframe tbody tr th:only-of-type {\n",
       "        vertical-align: middle;\n",
       "    }\n",
       "\n",
       "    .dataframe tbody tr th {\n",
       "        vertical-align: top;\n",
       "    }\n",
       "\n",
       "    .dataframe thead th {\n",
       "        text-align: right;\n",
       "    }\n",
       "</style>\n",
       "<table border=\"1\" class=\"dataframe\">\n",
       "  <thead>\n",
       "    <tr style=\"text-align: right;\">\n",
       "      <th></th>\n",
       "      <th>const</th>\n",
       "      <th>Mkt-RF</th>\n",
       "    </tr>\n",
       "  </thead>\n",
       "  <tbody>\n",
       "    <tr>\n",
       "      <th>AAPL</th>\n",
       "      <td>0.000569</td>\n",
       "      <td>1.166061</td>\n",
       "    </tr>\n",
       "    <tr>\n",
       "      <th>AMZN</th>\n",
       "      <td>0.000338</td>\n",
       "      <td>1.142014</td>\n",
       "    </tr>\n",
       "    <tr>\n",
       "      <th>JNJ</th>\n",
       "      <td>-0.000117</td>\n",
       "      <td>0.473484</td>\n",
       "    </tr>\n",
       "    <tr>\n",
       "      <th>JPM</th>\n",
       "      <td>0.000146</td>\n",
       "      <td>1.035446</td>\n",
       "    </tr>\n",
       "    <tr>\n",
       "      <th>KO</th>\n",
       "      <td>0.000023</td>\n",
       "      <td>0.546297</td>\n",
       "    </tr>\n",
       "    <tr>\n",
       "      <th>META</th>\n",
       "      <td>0.000318</td>\n",
       "      <td>1.276622</td>\n",
       "    </tr>\n",
       "    <tr>\n",
       "      <th>MSFT</th>\n",
       "      <td>0.000461</td>\n",
       "      <td>1.167358</td>\n",
       "    </tr>\n",
       "    <tr>\n",
       "      <th>PFE</th>\n",
       "      <td>-0.000213</td>\n",
       "      <td>0.537224</td>\n",
       "    </tr>\n",
       "    <tr>\n",
       "      <th>TSLA</th>\n",
       "      <td>0.001632</td>\n",
       "      <td>1.586761</td>\n",
       "    </tr>\n",
       "    <tr>\n",
       "      <th>XOM</th>\n",
       "      <td>0.000017</td>\n",
       "      <td>0.814368</td>\n",
       "    </tr>\n",
       "  </tbody>\n",
       "</table>\n",
       "</div>"
      ],
      "text/plain": [
       "         const    Mkt-RF\n",
       "AAPL  0.000569  1.166061\n",
       "AMZN  0.000338  1.142014\n",
       "JNJ  -0.000117  0.473484\n",
       "JPM   0.000146  1.035446\n",
       "KO    0.000023  0.546297\n",
       "META  0.000318  1.276622\n",
       "MSFT  0.000461  1.167358\n",
       "PFE  -0.000213  0.537224\n",
       "TSLA  0.001632  1.586761\n",
       "XOM   0.000017  0.814368"
      ]
     },
     "execution_count": 29,
     "metadata": {},
     "output_type": "execute_result"
    }
   ],
   "source": [
    "beta_capm = pd.DataFrame(index=tickers, columns=[\"const\", \"Mkt-RF\"])\n",
    "\n",
    "for ticker in tickers:\n",
    "    model = results[ticker][\"CAPM\"]\n",
    "    beta_capm.loc[ticker, [\"const\", \"Mkt-RF\"]] = model.params[[\"const\", \"Mkt-RF\"]]\n",
    "\n",
    "beta_capm = beta_capm.astype(float)\n",
    "beta_capm"
   ]
  },
  {
   "cell_type": "code",
   "execution_count": 31,
   "id": "5be673cc",
   "metadata": {},
   "outputs": [
    {
     "data": {
      "text/html": [
       "<div>\n",
       "<style scoped>\n",
       "    .dataframe tbody tr th:only-of-type {\n",
       "        vertical-align: middle;\n",
       "    }\n",
       "\n",
       "    .dataframe tbody tr th {\n",
       "        vertical-align: top;\n",
       "    }\n",
       "\n",
       "    .dataframe thead th {\n",
       "        text-align: right;\n",
       "    }\n",
       "</style>\n",
       "<table border=\"1\" class=\"dataframe\">\n",
       "  <thead>\n",
       "    <tr style=\"text-align: right;\">\n",
       "      <th></th>\n",
       "      <th>AAPL</th>\n",
       "      <th>AMZN</th>\n",
       "      <th>JNJ</th>\n",
       "      <th>JPM</th>\n",
       "      <th>KO</th>\n",
       "      <th>META</th>\n",
       "      <th>MSFT</th>\n",
       "      <th>PFE</th>\n",
       "      <th>TSLA</th>\n",
       "      <th>XOM</th>\n",
       "    </tr>\n",
       "  </thead>\n",
       "  <tbody>\n",
       "    <tr>\n",
       "      <th>const</th>\n",
       "      <td>0.000491</td>\n",
       "      <td>0.000249</td>\n",
       "      <td>-0.000161</td>\n",
       "      <td>0.000207</td>\n",
       "      <td>-0.000006</td>\n",
       "      <td>0.000235</td>\n",
       "      <td>0.000356</td>\n",
       "      <td>-0.000250</td>\n",
       "      <td>0.001658</td>\n",
       "      <td>0.000103</td>\n",
       "    </tr>\n",
       "    <tr>\n",
       "      <th>Mkt-RF</th>\n",
       "      <td>1.179768</td>\n",
       "      <td>1.114778</td>\n",
       "      <td>0.531383</td>\n",
       "      <td>1.112056</td>\n",
       "      <td>0.609986</td>\n",
       "      <td>1.256849</td>\n",
       "      <td>1.192741</td>\n",
       "      <td>0.587875</td>\n",
       "      <td>1.460075</td>\n",
       "      <td>0.874829</td>\n",
       "    </tr>\n",
       "    <tr>\n",
       "      <th>SMB</th>\n",
       "      <td>-0.305689</td>\n",
       "      <td>-0.148886</td>\n",
       "      <td>-0.407725</td>\n",
       "      <td>-0.169943</td>\n",
       "      <td>-0.386084</td>\n",
       "      <td>-0.164144</td>\n",
       "      <td>-0.444452</td>\n",
       "      <td>-0.350803</td>\n",
       "      <td>0.670193</td>\n",
       "      <td>-0.016910</td>\n",
       "    </tr>\n",
       "    <tr>\n",
       "      <th>HML</th>\n",
       "      <td>-0.380873</td>\n",
       "      <td>-0.731681</td>\n",
       "      <td>0.130028</td>\n",
       "      <td>0.899367</td>\n",
       "      <td>0.265866</td>\n",
       "      <td>-0.641504</td>\n",
       "      <td>-0.465945</td>\n",
       "      <td>0.125330</td>\n",
       "      <td>-0.721295</td>\n",
       "      <td>0.940476</td>\n",
       "    </tr>\n",
       "  </tbody>\n",
       "</table>\n",
       "</div>"
      ],
      "text/plain": [
       "            AAPL      AMZN       JNJ       JPM        KO      META      MSFT  \\\n",
       "const   0.000491  0.000249 -0.000161  0.000207 -0.000006  0.000235  0.000356   \n",
       "Mkt-RF  1.179768  1.114778  0.531383  1.112056  0.609986  1.256849  1.192741   \n",
       "SMB    -0.305689 -0.148886 -0.407725 -0.169943 -0.386084 -0.164144 -0.444452   \n",
       "HML    -0.380873 -0.731681  0.130028  0.899367  0.265866 -0.641504 -0.465945   \n",
       "\n",
       "             PFE      TSLA       XOM  \n",
       "const  -0.000250  0.001658  0.000103  \n",
       "Mkt-RF  0.587875  1.460075  0.874829  \n",
       "SMB    -0.350803  0.670193 -0.016910  \n",
       "HML     0.125330 -0.721295  0.940476  "
      ]
     },
     "execution_count": 31,
     "metadata": {},
     "output_type": "execute_result"
    }
   ],
   "source": [
    "beta_ff3 = pd.DataFrame(index=tickers, columns=[\"const\", \"Mkt-RF\", \"SMB\", \"HML\"])\n",
    "\n",
    "for ticker in tickers:\n",
    "    model = results[ticker][\"FF3\"]\n",
    "    beta_ff3.loc[ticker, [\"const\", \"Mkt-RF\", \"SMB\", \"HML\"]] = model.params[[\"const\", \"Mkt-RF\", \"SMB\", \"HML\"]]\n",
    "\n",
    "beta_ff3 = beta_ff3.astype(float)\n",
    "beta_ff3.T"
   ]
  },
  {
   "cell_type": "markdown",
   "id": "9dec9534",
   "metadata": {},
   "source": [
    "#### Estimate Factor Covariance Matrix"
   ]
  },
  {
   "cell_type": "code",
   "execution_count": 16,
   "id": "0fb1601a",
   "metadata": {},
   "outputs": [
    {
     "data": {
      "text/html": [
       "<div>\n",
       "<style scoped>\n",
       "    .dataframe tbody tr th:only-of-type {\n",
       "        vertical-align: middle;\n",
       "    }\n",
       "\n",
       "    .dataframe tbody tr th {\n",
       "        vertical-align: top;\n",
       "    }\n",
       "\n",
       "    .dataframe thead th {\n",
       "        text-align: right;\n",
       "    }\n",
       "</style>\n",
       "<table border=\"1\" class=\"dataframe\">\n",
       "  <thead>\n",
       "    <tr style=\"text-align: right;\">\n",
       "      <th></th>\n",
       "      <th>Mkt-RF</th>\n",
       "      <th>SMB</th>\n",
       "      <th>HML</th>\n",
       "    </tr>\n",
       "  </thead>\n",
       "  <tbody>\n",
       "    <tr>\n",
       "      <th>Mkt-RF</th>\n",
       "      <td>0.000162</td>\n",
       "      <td>0.000020</td>\n",
       "      <td>-0.000010</td>\n",
       "    </tr>\n",
       "    <tr>\n",
       "      <th>SMB</th>\n",
       "      <td>0.000020</td>\n",
       "      <td>0.000051</td>\n",
       "      <td>0.000001</td>\n",
       "    </tr>\n",
       "    <tr>\n",
       "      <th>HML</th>\n",
       "      <td>-0.000010</td>\n",
       "      <td>0.000001</td>\n",
       "      <td>0.000104</td>\n",
       "    </tr>\n",
       "  </tbody>\n",
       "</table>\n",
       "</div>"
      ],
      "text/plain": [
       "          Mkt-RF       SMB       HML\n",
       "Mkt-RF  0.000162  0.000020 -0.000010\n",
       "SMB     0.000020  0.000051  0.000001\n",
       "HML    -0.000010  0.000001  0.000104"
      ]
     },
     "execution_count": 16,
     "metadata": {},
     "output_type": "execute_result"
    }
   ],
   "source": [
    "factor_cov = factors[[\"Mkt-RF\", \"SMB\", \"HML\"]].cov()\n",
    "factor_cov"
   ]
  },
  {
   "cell_type": "code",
   "execution_count": 33,
   "id": "28aaaf89",
   "metadata": {},
   "outputs": [],
   "source": [
    "import matplotlib.pyplot as plt\n",
    "import seaborn as sns"
   ]
  },
  {
   "cell_type": "code",
   "execution_count": 34,
   "id": "a656dca4",
   "metadata": {},
   "outputs": [
    {
     "data": {
      "image/png": "[encoded data removed]",
      "text/plain": [
       "<Figure size 600x500 with 2 Axes>"
      ]
     },
     "metadata": {},
     "output_type": "display_data"
    }
   ],
   "source": [
    "std_dev = np.sqrt(np.diag(factor_cov))\n",
    "corr_matrix = factor_cov / std_dev[:, None] / std_dev[None, :]\n",
    "\n",
    "plt.figure(figsize=(6, 5))\n",
    "sns.heatmap(corr_matrix, annot=True, cmap=\"coolwarm\", center=0, square=True, linewidths=0.5)\n",
    "plt.title(\"Factor Correlation Matrix\")\n",
    "plt.show()"
   ]
  },
  {
   "cell_type": "markdown",
   "id": "8717e186",
   "metadata": {},
   "source": [
    "#### Residual Variance"
   ]
  },
  {
   "cell_type": "code",
   "execution_count": 17,
   "id": "803ddb9a",
   "metadata": {},
   "outputs": [
    {
     "data": {
      "text/plain": [
       "AAPL    0.000130\n",
       "AMZN    0.000202\n",
       "JNJ     0.000106\n",
       "JPM     0.000090\n",
       "KO      0.000089\n",
       "META    0.000389\n",
       "MSFT    0.000077\n",
       "PFE     0.000203\n",
       "TSLA    0.001131\n",
       "XOM     0.000183\n",
       "dtype: float64"
      ]
     },
     "execution_count": 17,
     "metadata": {},
     "output_type": "execute_result"
    }
   ],
   "source": [
    "residual_var = pd.Series({ticker: results[ticker][\"FF3\"].mse_resid for ticker in tickers})\n",
    "residual_var"
   ]
  },
  {
   "cell_type": "markdown",
   "id": "9e529db7",
   "metadata": {},
   "source": [
    "#### Portfolio Factor Risk"
   ]
  },
  {
   "cell_type": "code",
   "execution_count": 18,
   "id": "38d13458",
   "metadata": {},
   "outputs": [
    {
     "data": {
      "text/plain": [
       "0.00015608549805609458"
      ]
     },
     "execution_count": 18,
     "metadata": {},
     "output_type": "execute_result"
    }
   ],
   "source": [
    "portfolio_beta = np.dot(weights, beta_ff3)\n",
    "portfolio_var_factor = np.dot(portfolio_beta, np.dot(factor_cov, portfolio_beta.T))\n",
    "portfolio_var_factor"
   ]
  },
  {
   "cell_type": "markdown",
   "id": "6aa0da1b",
   "metadata": {},
   "source": [
    "#### Portfolio Idiosyncratic Risk"
   ]
  },
  {
   "cell_type": "code",
   "execution_count": 20,
   "id": "5816cda3",
   "metadata": {},
   "outputs": [
    {
     "data": {
      "text/plain": [
       "2.599767504136748e-05"
      ]
     },
     "execution_count": 20,
     "metadata": {},
     "output_type": "execute_result"
    }
   ],
   "source": [
    "portfolio_var_idiosyncratic = np.dot(weights**2, residual_var)\n",
    "portfolio_var_idiosyncratic"
   ]
  },
  {
   "cell_type": "markdown",
   "id": "637035c3",
   "metadata": {},
   "source": [
    "#### Total Portfolio Variance"
   ]
  },
  {
   "cell_type": "code",
   "execution_count": 14,
   "id": "39719a9f",
   "metadata": {},
   "outputs": [
    {
     "name": "stdout",
     "output_type": "stream",
     "text": [
      "Portfolio Volatility (daily std dev): 0.01349\n"
     ]
    }
   ],
   "source": [
    "portfolio_var_total = portfolio_var_factor + portfolio_var_idiosyncratic\n",
    "portfolio_std_dev = np.sqrt(portfolio_var_total)\n",
    "\n",
    "print(f\"Portfolio Volatility (daily std dev): {portfolio_std_dev:.5f}\")"
   ]
  },
  {
   "cell_type": "markdown",
   "id": "7e97f619",
   "metadata": {},
   "source": [
    "#### Portfolio VaR"
   ]
  },
  {
   "cell_type": "code",
   "execution_count": 15,
   "id": "dcb36048",
   "metadata": {},
   "outputs": [
    {
     "name": "stdout",
     "output_type": "stream",
     "text": [
      "Estimated 1-day VaR at 99.0% confidence: 0.03219\n"
     ]
    }
   ],
   "source": [
    "confidence_level = 0.99\n",
    "VaR = portfolio_std_dev * np.abs(np.percentile(np.random.randn(10000), (1 - confidence_level) * 100))\n",
    "print(f\"Estimated 1-day VaR at {confidence_level*100}% confidence: {VaR:.5f}\")"
   ]
  },
  {
   "cell_type": "code",
   "execution_count": null,
   "id": "39d2f389",
   "metadata": {},
   "outputs": [],
   "source": []
  }
 ],
 "metadata": {
  "kernelspec": {
   "display_name": "Python 3",
   "language": "python",
   "name": "python3"
  },
  "language_info": {
   "codemirror_mode": {
    "name": "ipython",
    "version": 3
   },
   "file_extension": ".py",
   "mimetype": "text/x-python",
   "name": "python",
   "nbconvert_exporter": "python",
   "pygments_lexer": "ipython3",
   "version": "3.8.20"
  }
 },
 "nbformat": 4,
 "nbformat_minor": 5
}
