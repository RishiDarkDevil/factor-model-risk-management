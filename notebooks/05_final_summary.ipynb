{
 "cells": [
  {
   "cell_type": "markdown",
   "id": "0574c30c",
   "metadata": {},
   "source": [
    "#### Imports"
   ]
  },
  {
   "cell_type": "code",
   "execution_count": 2,
   "id": "37b11465",
   "metadata": {},
   "outputs": [],
   "source": [
    "import pandas as pd\n",
    "import numpy as np\n",
    "import matplotlib.pyplot as plt\n",
    "from pathlib import Path\n",
    "import pickle"
   ]
  },
  {
   "cell_type": "markdown",
   "id": "a7fa3257",
   "metadata": {},
   "source": [
    "#### Load Results"
   ]
  },
  {
   "cell_type": "code",
   "execution_count": 3,
   "id": "ef81f3b8",
   "metadata": {},
   "outputs": [],
   "source": [
    "outputs_path = Path(\"../outputs\")\n",
    "with open(outputs_path / \"model_results.pkl\", \"rb\") as f:\n",
    "    results = pickle.load(f)\n",
    "\n",
    "assets_path = Path(\"../data/assets\")\n",
    "factors_path = Path(\"../data/factors\")\n",
    "\n",
    "returns = pd.read_csv(assets_path / \"asset_returns.csv\", index_col=0, parse_dates=True)\n",
    "factors = pd.read_csv(factors_path / \"ff3_daily_clean.csv\", index_col=0, parse_dates=True)"
   ]
  },
  {
   "cell_type": "markdown",
   "id": "6fff04da",
   "metadata": {},
   "source": [
    "#### Align Data"
   ]
  },
  {
   "cell_type": "code",
   "execution_count": 4,
   "id": "4c1f2640",
   "metadata": {},
   "outputs": [],
   "source": [
    "returns = returns.loc[factors.index.intersection(returns.index)]\n",
    "factors = factors.loc[returns.index]\n",
    "\n",
    "excess_returns = returns.sub(factors[\"RF\"], axis=0)"
   ]
  },
  {
   "cell_type": "markdown",
   "id": "69b79648",
   "metadata": {},
   "source": [
    "#### Prepare Portfolio"
   ]
  },
  {
   "cell_type": "code",
   "execution_count": 5,
   "id": "8a84f5a8",
   "metadata": {},
   "outputs": [],
   "source": [
    "tickers = returns.columns\n",
    "n_assets = len(tickers)\n",
    "weights = np.ones(n_assets) / n_assets"
   ]
  },
  {
   "cell_type": "markdown",
   "id": "cc538a14",
   "metadata": {},
   "source": [
    "#### Build Beta Matrix"
   ]
  },
  {
   "cell_type": "code",
   "execution_count": 19,
   "id": "83a7978e",
   "metadata": {},
   "outputs": [],
   "source": [
    "beta_capm = pd.DataFrame(index=tickers, columns=[\"Mkt-RF\"])\n",
    "\n",
    "for ticker in tickers:\n",
    "    model = results[ticker][\"CAPM\"]\n",
    "    beta_capm.loc[ticker, [\"Mkt-RF\"]] = model.params[[\"Mkt-RF\"]]\n",
    "\n",
    "beta_capm = beta_capm.astype(float)"
   ]
  },
  {
   "cell_type": "code",
   "execution_count": 6,
   "id": "57b34a8c",
   "metadata": {},
   "outputs": [],
   "source": [
    "beta_ff3 = pd.DataFrame(index=tickers, columns=[\"Mkt-RF\", \"SMB\", \"HML\"])\n",
    "\n",
    "for ticker in tickers:\n",
    "    model = results[ticker][\"FF3\"]\n",
    "    beta_ff3.loc[ticker, [\"Mkt-RF\", \"SMB\", \"HML\"]] = model.params[[\"Mkt-RF\", \"SMB\", \"HML\"]]\n",
    "\n",
    "beta_ff3 = beta_ff3.astype(float)"
   ]
  },
  {
   "cell_type": "markdown",
   "id": "34d38a0e",
   "metadata": {},
   "source": [
    "#### Factor Covariance and Residual Variance"
   ]
  },
  {
   "cell_type": "code",
   "execution_count": 7,
   "id": "07538744",
   "metadata": {},
   "outputs": [],
   "source": [
    "factor_cov = factors[[\"Mkt-RF\", \"SMB\", \"HML\"]].cov()\n",
    "residual_var = pd.Series({ticker: results[ticker][\"FF3\"].mse_resid for ticker in tickers})"
   ]
  },
  {
   "cell_type": "code",
   "execution_count": 21,
   "id": "6af87afc",
   "metadata": {},
   "outputs": [],
   "source": [
    "factor_cov_capm = factors[[\"Mkt-RF\"]].cov()"
   ]
  },
  {
   "cell_type": "code",
   "execution_count": 15,
   "id": "6a3a2393",
   "metadata": {},
   "outputs": [
    {
     "data": {
      "text/html": [
       "<div>\n",
       "<style scoped>\n",
       "    .dataframe tbody tr th:only-of-type {\n",
       "        vertical-align: middle;\n",
       "    }\n",
       "\n",
       "    .dataframe tbody tr th {\n",
       "        vertical-align: top;\n",
       "    }\n",
       "\n",
       "    .dataframe thead th {\n",
       "        text-align: right;\n",
       "    }\n",
       "</style>\n",
       "<table border=\"1\" class=\"dataframe\">\n",
       "  <thead>\n",
       "    <tr style=\"text-align: right;\">\n",
       "      <th></th>\n",
       "      <th>AAPL</th>\n",
       "      <th>AMZN</th>\n",
       "      <th>JNJ</th>\n",
       "      <th>JPM</th>\n",
       "      <th>KO</th>\n",
       "      <th>META</th>\n",
       "      <th>MSFT</th>\n",
       "      <th>PFE</th>\n",
       "      <th>TSLA</th>\n",
       "      <th>XOM</th>\n",
       "    </tr>\n",
       "  </thead>\n",
       "  <tbody>\n",
       "    <tr>\n",
       "      <th>Residual Variance</th>\n",
       "      <td>0.00013</td>\n",
       "      <td>0.000202</td>\n",
       "      <td>0.000106</td>\n",
       "      <td>0.00009</td>\n",
       "      <td>0.000089</td>\n",
       "      <td>0.000389</td>\n",
       "      <td>0.000077</td>\n",
       "      <td>0.000203</td>\n",
       "      <td>0.001131</td>\n",
       "      <td>0.000183</td>\n",
       "    </tr>\n",
       "  </tbody>\n",
       "</table>\n",
       "</div>"
      ],
      "text/plain": [
       "                      AAPL      AMZN       JNJ      JPM        KO      META  \\\n",
       "Residual Variance  0.00013  0.000202  0.000106  0.00009  0.000089  0.000389   \n",
       "\n",
       "                       MSFT       PFE      TSLA       XOM  \n",
       "Residual Variance  0.000077  0.000203  0.001131  0.000183  "
      ]
     },
     "execution_count": 15,
     "metadata": {},
     "output_type": "execute_result"
    }
   ],
   "source": [
    "d = pd.DataFrame(residual_var)\n",
    "d.columns = ['Residual Variance']\n",
    "d.T"
   ]
  },
  {
   "cell_type": "code",
   "execution_count": 16,
   "id": "87ee2027",
   "metadata": {},
   "outputs": [
    {
     "data": {
      "text/html": [
       "<div>\n",
       "<style scoped>\n",
       "    .dataframe tbody tr th:only-of-type {\n",
       "        vertical-align: middle;\n",
       "    }\n",
       "\n",
       "    .dataframe tbody tr th {\n",
       "        vertical-align: top;\n",
       "    }\n",
       "\n",
       "    .dataframe thead th {\n",
       "        text-align: right;\n",
       "    }\n",
       "</style>\n",
       "<table border=\"1\" class=\"dataframe\">\n",
       "  <thead>\n",
       "    <tr style=\"text-align: right;\">\n",
       "      <th></th>\n",
       "      <th>AAPL</th>\n",
       "      <th>AMZN</th>\n",
       "      <th>JNJ</th>\n",
       "      <th>JPM</th>\n",
       "      <th>KO</th>\n",
       "      <th>META</th>\n",
       "      <th>MSFT</th>\n",
       "      <th>PFE</th>\n",
       "      <th>TSLA</th>\n",
       "      <th>XOM</th>\n",
       "    </tr>\n",
       "  </thead>\n",
       "  <tbody>\n",
       "    <tr>\n",
       "      <th>Residual Variance</th>\n",
       "      <td>0.00015</td>\n",
       "      <td>0.000259</td>\n",
       "      <td>0.000116</td>\n",
       "      <td>0.000174</td>\n",
       "      <td>0.000103</td>\n",
       "      <td>0.000433</td>\n",
       "      <td>0.00011</td>\n",
       "      <td>0.00021</td>\n",
       "      <td>0.001203</td>\n",
       "      <td>0.000274</td>\n",
       "    </tr>\n",
       "  </tbody>\n",
       "</table>\n",
       "</div>"
      ],
      "text/plain": [
       "                      AAPL      AMZN       JNJ       JPM        KO      META  \\\n",
       "Residual Variance  0.00015  0.000259  0.000116  0.000174  0.000103  0.000433   \n",
       "\n",
       "                      MSFT      PFE      TSLA       XOM  \n",
       "Residual Variance  0.00011  0.00021  0.001203  0.000274  "
      ]
     },
     "execution_count": 16,
     "metadata": {},
     "output_type": "execute_result"
    }
   ],
   "source": [
    "residual_var_capm = pd.Series({ticker: results[ticker][\"CAPM\"].mse_resid for ticker in tickers})\n",
    "d = pd.DataFrame(residual_var_capm)\n",
    "d.columns = ['Residual Variance']\n",
    "d.T"
   ]
  },
  {
   "cell_type": "markdown",
   "id": "b86cd383",
   "metadata": {},
   "source": [
    "#### Risk Decomposition"
   ]
  },
  {
   "cell_type": "code",
   "execution_count": 31,
   "id": "a35aab61",
   "metadata": {},
   "outputs": [
    {
     "data": {
      "text/plain": [
       "0.0001542451355195876"
      ]
     },
     "execution_count": 31,
     "metadata": {},
     "output_type": "execute_result"
    }
   ],
   "source": [
    "portfolio_var_factor"
   ]
  },
  {
   "cell_type": "code",
   "execution_count": 32,
   "id": "6021594a",
   "metadata": {},
   "outputs": [
    {
     "data": {
      "text/html": [
       "<div>\n",
       "<style scoped>\n",
       "    .dataframe tbody tr th:only-of-type {\n",
       "        vertical-align: middle;\n",
       "    }\n",
       "\n",
       "    .dataframe tbody tr th {\n",
       "        vertical-align: top;\n",
       "    }\n",
       "\n",
       "    .dataframe thead th {\n",
       "        text-align: right;\n",
       "    }\n",
       "</style>\n",
       "<table border=\"1\" class=\"dataframe\">\n",
       "  <thead>\n",
       "    <tr style=\"text-align: right;\">\n",
       "      <th></th>\n",
       "      <th>Mkt-RF</th>\n",
       "      <th>SMB</th>\n",
       "      <th>HML</th>\n",
       "    </tr>\n",
       "  </thead>\n",
       "  <tbody>\n",
       "    <tr>\n",
       "      <th>AAPL</th>\n",
       "      <td>1.179768</td>\n",
       "      <td>-0.305689</td>\n",
       "      <td>-0.380873</td>\n",
       "    </tr>\n",
       "    <tr>\n",
       "      <th>AMZN</th>\n",
       "      <td>1.114778</td>\n",
       "      <td>-0.148886</td>\n",
       "      <td>-0.731681</td>\n",
       "    </tr>\n",
       "    <tr>\n",
       "      <th>JNJ</th>\n",
       "      <td>0.531383</td>\n",
       "      <td>-0.407725</td>\n",
       "      <td>0.130028</td>\n",
       "    </tr>\n",
       "    <tr>\n",
       "      <th>JPM</th>\n",
       "      <td>1.112056</td>\n",
       "      <td>-0.169943</td>\n",
       "      <td>0.899367</td>\n",
       "    </tr>\n",
       "    <tr>\n",
       "      <th>KO</th>\n",
       "      <td>0.609986</td>\n",
       "      <td>-0.386084</td>\n",
       "      <td>0.265866</td>\n",
       "    </tr>\n",
       "    <tr>\n",
       "      <th>META</th>\n",
       "      <td>1.256849</td>\n",
       "      <td>-0.164144</td>\n",
       "      <td>-0.641504</td>\n",
       "    </tr>\n",
       "    <tr>\n",
       "      <th>MSFT</th>\n",
       "      <td>1.192741</td>\n",
       "      <td>-0.444452</td>\n",
       "      <td>-0.465945</td>\n",
       "    </tr>\n",
       "    <tr>\n",
       "      <th>PFE</th>\n",
       "      <td>0.587875</td>\n",
       "      <td>-0.350803</td>\n",
       "      <td>0.125330</td>\n",
       "    </tr>\n",
       "    <tr>\n",
       "      <th>TSLA</th>\n",
       "      <td>1.460075</td>\n",
       "      <td>0.670193</td>\n",
       "      <td>-0.721295</td>\n",
       "    </tr>\n",
       "    <tr>\n",
       "      <th>XOM</th>\n",
       "      <td>0.874829</td>\n",
       "      <td>-0.016910</td>\n",
       "      <td>0.940476</td>\n",
       "    </tr>\n",
       "  </tbody>\n",
       "</table>\n",
       "</div>"
      ],
      "text/plain": [
       "        Mkt-RF       SMB       HML\n",
       "AAPL  1.179768 -0.305689 -0.380873\n",
       "AMZN  1.114778 -0.148886 -0.731681\n",
       "JNJ   0.531383 -0.407725  0.130028\n",
       "JPM   1.112056 -0.169943  0.899367\n",
       "KO    0.609986 -0.386084  0.265866\n",
       "META  1.256849 -0.164144 -0.641504\n",
       "MSFT  1.192741 -0.444452 -0.465945\n",
       "PFE   0.587875 -0.350803  0.125330\n",
       "TSLA  1.460075  0.670193 -0.721295\n",
       "XOM   0.874829 -0.016910  0.940476"
      ]
     },
     "execution_count": 32,
     "metadata": {},
     "output_type": "execute_result"
    }
   ],
   "source": [
    "beta_ff3"
   ]
  },
  {
   "cell_type": "code",
   "execution_count": 8,
   "id": "be2c8e1e",
   "metadata": {},
   "outputs": [],
   "source": [
    "portfolio_beta = np.dot(weights, beta_ff3)\n",
    "portfolio_var_factor = np.dot(portfolio_beta, np.dot(factor_cov, portfolio_beta.T))\n",
    "portfolio_var_idiosyncratic = np.dot(weights**2, residual_var)\n",
    "portfolio_var_total = portfolio_var_factor + portfolio_var_idiosyncratic"
   ]
  },
  {
   "cell_type": "markdown",
   "id": "af4ea70a",
   "metadata": {},
   "source": [
    "#### Plot Decomposition"
   ]
  },
  {
   "cell_type": "code",
   "execution_count": 9,
   "id": "f2b75cfe",
   "metadata": {},
   "outputs": [
    {
     "data": {
      "image/png": "[encoded data removed]",
      "text/plain": [
       "<Figure size 600x600 with 1 Axes>"
      ]
     },
     "metadata": {},
     "output_type": "display_data"
    }
   ],
   "source": [
    "labels = ['Factor Risk', 'Idiosyncratic Risk']\n",
    "sizes = [portfolio_var_factor, portfolio_var_idiosyncratic]\n",
    "\n",
    "fig, ax = plt.subplots(figsize=(6,6))\n",
    "ax.pie(sizes, labels=labels, autopct='%1.1f%%', startangle=140, colors=[\"#1f77b4\", \"#ff7f0e\"])\n",
    "ax.axis('equal')\n",
    "plt.title('Portfolio Risk Decomposition')\n",
    "plt.show()"
   ]
  },
  {
   "cell_type": "code",
   "execution_count": 10,
   "id": "e0ceef0b",
   "metadata": {},
   "outputs": [
    {
     "name": "stdout",
     "output_type": "stream",
     "text": [
      "🔵 Portfolio Total Volatility (daily std dev): 0.01349\n",
      "🔵 Portion of total variance explained by factors: 85.72%\n",
      "🔵 Portion of total variance due to idiosyncratic risk: 14.28%\n"
     ]
    }
   ],
   "source": [
    "print(\"🔵 Portfolio Total Volatility (daily std dev): {:.5f}\".format(np.sqrt(portfolio_var_total)))\n",
    "print(\"🔵 Portion of total variance explained by factors: {:.2%}\".format(portfolio_var_factor/portfolio_var_total))\n",
    "print(\"🔵 Portion of total variance due to idiosyncratic risk: {:.2%}\".format(portfolio_var_idiosyncratic/portfolio_var_total))"
   ]
  },
  {
   "cell_type": "code",
   "execution_count": 26,
   "id": "6f9eb23e",
   "metadata": {},
   "outputs": [
    {
     "data": {
      "text/plain": [
       "0.21414711111756798"
      ]
     },
     "execution_count": 26,
     "metadata": {},
     "output_type": "execute_result"
    }
   ],
   "source": [
    "0.01349 * np.sqrt(252)"
   ]
  },
  {
   "cell_type": "code",
   "execution_count": 22,
   "id": "b3dc910b",
   "metadata": {},
   "outputs": [],
   "source": [
    "portfolio_beta = np.dot(weights, beta_capm)\n",
    "portfolio_var_factor = np.dot(portfolio_beta, np.dot(factor_cov_capm, portfolio_beta.T))\n",
    "portfolio_var_idiosyncratic = np.dot(weights**2, residual_var_capm)\n",
    "portfolio_var_total = portfolio_var_factor + portfolio_var_idiosyncratic"
   ]
  },
  {
   "cell_type": "code",
   "execution_count": 23,
   "id": "574167c4",
   "metadata": {},
   "outputs": [
    {
     "data": {
      "image/png": "[encoded data removed]",
      "text/plain": [
       "<Figure size 600x600 with 1 Axes>"
      ]
     },
     "metadata": {},
     "output_type": "display_data"
    }
   ],
   "source": [
    "labels = ['Factor Risk', 'Idiosyncratic Risk']\n",
    "sizes = [portfolio_var_factor, portfolio_var_idiosyncratic]\n",
    "\n",
    "fig, ax = plt.subplots(figsize=(6,6))\n",
    "ax.pie(sizes, labels=labels, autopct='%1.1f%%', startangle=140, colors=[\"#1f77b4\", \"#ff7f0e\"])\n",
    "ax.axis('equal')\n",
    "plt.title('Portfolio Risk Decomposition')\n",
    "plt.show()"
   ]
  },
  {
   "cell_type": "code",
   "execution_count": 24,
   "id": "b74ac1e4",
   "metadata": {},
   "outputs": [
    {
     "name": "stdout",
     "output_type": "stream",
     "text": [
      "🔵 Portfolio Total Volatility (daily std dev): 0.01358\n",
      "🔵 Portion of total variance explained by factors: 83.58%\n",
      "🔵 Portion of total variance due to idiosyncratic risk: 16.42%\n"
     ]
    }
   ],
   "source": [
    "print(\"🔵 Portfolio Total Volatility (daily std dev): {:.5f}\".format(np.sqrt(portfolio_var_total)))\n",
    "print(\"🔵 Portion of total variance explained by factors: {:.2%}\".format(portfolio_var_factor/portfolio_var_total))\n",
    "print(\"🔵 Portion of total variance due to idiosyncratic risk: {:.2%}\".format(portfolio_var_idiosyncratic/portfolio_var_total))"
   ]
  },
  {
   "cell_type": "code",
   "execution_count": null,
   "id": "536a467b",
   "metadata": {},
   "outputs": [
    {
     "data": {
      "text/plain": [
       "(0.21414711111756798, 0.21557581682554286)"
      ]
     },
     "execution_count": 28,
     "metadata": {},
     "output_type": "execute_result"
    }
   ],
   "source": [
    "0.01349 * np.sqrt(252), 0.01358 * np.sqrt(252)"
   ]
  }
 ],
 "metadata": {
  "kernelspec": {
   "display_name": "Python 3",
   "language": "python",
   "name": "python3"
  },
  "language_info": {
   "codemirror_mode": {
    "name": "ipython",
    "version": 3
   },
   "file_extension": ".py",
   "mimetype": "text/x-python",
   "name": "python",
   "nbconvert_exporter": "python",
   "pygments_lexer": "ipython3",
   "version": "3.8.20"
  }
 },
 "nbformat": 4,
 "nbformat_minor": 5
}
